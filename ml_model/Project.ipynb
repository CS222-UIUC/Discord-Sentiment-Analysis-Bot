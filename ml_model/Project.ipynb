{
 "cells": [
  {
   "cell_type": "code",
   "execution_count": 2,
   "metadata": {},
   "outputs": [],
   "source": [
    "import azure.core\n",
    "from azureml.core import Workspace,Environment,Experiment,ScriptRunConfig\n",
    "from azureml.core.compute import AmlCompute, ComputeTarget\n",
    "from azureml.core.compute_target import ComputeTargetException"
   ]
  },
  {
   "cell_type": "code",
   "execution_count": 20,
   "metadata": {},
   "outputs": [],
   "source": [
    "# https://www.youtube.com/watch?v=eIS3ZAVIgn8&ab_channel=BinodSumanAcademy\n",
    "resource_name = \"CS222\"\n",
    "workspace_name = \"CS222-VSCode\"\n",
    "subscriptionID = \"488c3044-7c03-4839-be5f-8ec3ee9c0ce4\" # Please enter your subscription id here\n",
    "# aml_compute_target = \"demo-cluster\" #ALL SMALL LETTER, NO underscore, 16ws long only.\n",
    "aml_compute_target = \"demo-cluster-2\" #ALL SMALL LETTER, NO underscore, 16ws long only.\n",
    "experiment_name= 'demo_expirement'"
   ]
  },
  {
   "cell_type": "code",
   "execution_count": 4,
   "metadata": {},
   "outputs": [
    {
     "name": "stdout",
     "output_type": "stream",
     "text": [
      "Workspace is already exist\n"
     ]
    }
   ],
   "source": [
    "# Now create Workspace\n",
    "try:\n",
    "    ws=Workspace.from_config()\n",
    "    print('Workspace is already exist')\n",
    "except:\n",
    "    ws=Workspace.create(workspace_name, \n",
    "                    resource_group=resource_name,\n",
    "                    create_resource_group=True,\n",
    "                    subscription_id=subscriptionID,\n",
    "                    location=\"East US 2\")\n",
    "    ws.write_config('.azureml')"
   ]
  },
  {
   "cell_type": "code",
   "execution_count": 5,
   "metadata": {},
   "outputs": [
    {
     "data": {
      "text/plain": [
       "Workspace.create(name='CS222-SentimentAnalysis', subscription_id='488c3044-7c03-4839-be5f-8ec3ee9c0ce4', resource_group='CS222')"
      ]
     },
     "execution_count": 5,
     "metadata": {},
     "output_type": "execute_result"
    }
   ],
   "source": [
    "Workspace.from_config()"
   ]
  },
  {
   "cell_type": "code",
   "execution_count": 22,
   "metadata": {},
   "outputs": [
    {
     "name": "stdout",
     "output_type": "stream",
     "text": [
      "creating new compute target : demo-cluster-2\n",
      "InProgress.\n",
      "SucceededProvisioning operation finished, operation \"Succeeded\"\n",
      "Succeeded................................\n",
      "AmlCompute wait for completion finished\n",
      "\n",
      "Minimum number of nodes requested have been provisioned\n",
      "Azure Machine Learning Compute attached now\n"
     ]
    }
   ],
   "source": [
    "# Create Compute Target\n",
    "try:\n",
    "    aml_compute = AmlCompute(ws, aml_compute_target)\n",
    "    print(\"This Compute Target already exist.\")\n",
    "except ComputeTargetException:\n",
    "    print(\"creating new compute target :\",aml_compute_target)\n",
    "#     vmsize = \"STANDARD_D2_V2\" # CPU\n",
    "    vmsize = \"STANDARD_NC6\" # GPU\n",
    "    provisioning_config = AmlCompute.provisioning_configuration(vm_size = vmsize,\n",
    "                                                                min_nodes = 1, \n",
    "                                                                max_nodes = 2,\n",
    "                                               idle_seconds_before_scaledown=1000)    \n",
    "    aml_compute = ComputeTarget.create(ws, aml_compute_target, provisioning_config)\n",
    "    aml_compute.wait_for_completion(show_output=True, min_node_count=None, timeout_in_minutes=20)\n",
    "    \n",
    "print(\"Azure Machine Learning Compute attached now\")"
   ]
  },
  {
   "cell_type": "code",
   "execution_count": 16,
   "metadata": {},
   "outputs": [],
   "source": [
    "# Create environment to execute your code\n",
    "env = Environment.from_conda_specification(name=\"azure_ml\",file_path=\"./envfile.yml\")\n",
    "# env = Environment.get(workspace=ws,name=\"AzureML-sklearn-1.0-ubuntu20.04-py38-cpu\")\n",
    "# to use given envs will have to import os and then os.system(pip install package)"
   ]
  },
  {
   "cell_type": "code",
   "execution_count": 9,
   "metadata": {},
   "outputs": [],
   "source": [
    "exp = Experiment(ws, experiment_name)"
   ]
  },
  {
   "cell_type": "code",
   "execution_count": 26,
   "metadata": {},
   "outputs": [
    {
     "name": "stderr",
     "output_type": "stream",
     "text": [
      "Submitting /mnt/e/yash/uiuc/Fall22/CS222/course-project-group-38/ml_model directory for run. The size of the directory >= 25 MB, so it can take a few minutes.\n"
     ]
    }
   ],
   "source": [
    "config=ScriptRunConfig(source_directory=\"./\",script=\"final_model_train.py\",compute_target=aml_compute_target,environment=env)\n",
    "execution=exp.submit(config)\n",
    "# execution.wait_for_completion(show_output=True)"
   ]
  }
 ],
 "metadata": {
  "kernelspec": {
   "display_name": "Python (sentiProject)",
   "language": "python",
   "name": "sentiproject"
  },
  "language_info": {
   "codemirror_mode": {
    "name": "ipython",
    "version": 3
   },
   "file_extension": ".py",
   "mimetype": "text/x-python",
   "name": "python",
   "nbconvert_exporter": "python",
   "pygments_lexer": "ipython3",
   "version": "3.10.4"
  }
 },
 "nbformat": 4,
 "nbformat_minor": 2
}
