{
 "cells": [
  {
   "cell_type": "code",
   "execution_count": null,
   "metadata": {},
   "outputs": [],
   "source": [
    "import pandas as pd\n",
    "\n",
    "df_reddit = pd.read_csv(\"original_datasets/Reddit_Data.csv\")\n",
    "df_twitter = pd.read_csv(\"original_datasets/Twitter_data.csv\")\n",
    "df_twitter_train = pd.read_csv(\"original_datasets/twitter_training.csv\")\n",
    "df_twitter_validation = pd.read_csv(\"original_datasets/twitter_validation.csv\")\n"
   ]
  },
  {
   "cell_type": "code",
   "execution_count": null,
   "metadata": {},
   "outputs": [],
   "source": [
    "df_twitter_train = df_twitter_train.drop('Tweet ID', axis=1)\n",
    "df_twitter_train = df_twitter_train.drop('entity', axis=1)\n",
    "\n",
    "df_twitter_train.loc[df_twitter_train['category'] == \"Positive\", \"category\"] = 1\n",
    "df_twitter_train.loc[df_twitter_train['category'] == \"Negative\", \"category\"] = -1\n",
    "df_twitter_train.loc[df_twitter_train['category'] == \"Neutral\", \"category\"] = 0\n",
    "df_twitter_train.loc[df_twitter_train['category'] == \"Irrelevant\", \"category\"] = 0\n",
    "\n",
    "columns_titles = [\"comment\",\"category\"]\n",
    "df_twitter_train=df_twitter_train.reindex(columns=columns_titles)\n",
    "\n",
    "df_twitter_train"
   ]
  },
  {
   "cell_type": "code",
   "execution_count": null,
   "metadata": {},
   "outputs": [],
   "source": [
    "df_twitter_validation = df_twitter_validation.drop('Tweet ID', axis=1)\n",
    "df_twitter_validation = df_twitter_validation.drop('entity', axis=1)\n",
    "\n",
    "df_twitter_validation.loc[df_twitter_validation['category'] == \"Positive\", \"category\"] = 1\n",
    "df_twitter_validation.loc[df_twitter_validation['category'] == \"Negative\", \"category\"] = -1\n",
    "df_twitter_validation.loc[df_twitter_validation['category'] == \"Neutral\", \"category\"] = 0\n",
    "df_twitter_validation.loc[df_twitter_validation['category'] == \"Irrelevant\", \"category\"] = 0\n",
    "\n",
    "columns_titles = [\"comment\",\"category\"]\n",
    "df_twitter_validation=df_twitter_validation.reindex(columns=columns_titles)\n",
    "\n",
    "df_twitter_validation.head()"
   ]
  },
  {
   "cell_type": "code",
   "execution_count": null,
   "metadata": {},
   "outputs": [],
   "source": [
    "frames = [df_reddit, df_twitter, df_twitter_train, df_twitter_validation]\n",
    "df_final = pd.concat(frames)"
   ]
  },
  {
   "cell_type": "code",
   "execution_count": null,
   "metadata": {},
   "outputs": [],
   "source": [
    "df_final.to_csv(\"comment_dataset_final.csv\", index=False)"
   ]
  }
 ],
 "metadata": {
  "kernelspec": {
   "display_name": "Python 3.10.4 64-bit",
   "language": "python",
   "name": "python3"
  },
  "language_info": {
   "name": "python",
   "version": "3.10.4"
  },
  "orig_nbformat": 4,
  "vscode": {
   "interpreter": {
    "hash": "916dbcbb3f70747c44a77c7bcd40155683ae19c65e1c03b4aa3499c5328201f1"
   }
  }
 },
 "nbformat": 4,
 "nbformat_minor": 2
}
